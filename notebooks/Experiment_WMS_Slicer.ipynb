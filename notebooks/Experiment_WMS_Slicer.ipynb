{
 "cells": [
  {
   "cell_type": "code",
   "execution_count": 5,
   "id": "6e3cac2d-b656-46e5-9e58-b1a43cfb109a",
   "metadata": {},
   "outputs": [
    {
     "ename": "ModuleNotFoundError",
     "evalue": "No module named 'resterio'",
     "output_type": "error",
     "traceback": [
      "\u001b[31m---------------------------------------------------------------------------\u001b[39m",
      "\u001b[31mModuleNotFoundError\u001b[39m                       Traceback (most recent call last)",
      "\u001b[36mCell\u001b[39m\u001b[36m \u001b[39m\u001b[32mIn[5]\u001b[39m\u001b[32m, line 6\u001b[39m\n\u001b[32m      4\u001b[39m \u001b[38;5;28;01mfrom\u001b[39;00m\u001b[38;5;250m \u001b[39m\u001b[34;01mio\u001b[39;00m\u001b[38;5;250m \u001b[39m\u001b[38;5;28;01mimport\u001b[39;00m BytesIO\n\u001b[32m      5\u001b[39m \u001b[38;5;28;01mimport\u001b[39;00m\u001b[38;5;250m \u001b[39m\u001b[34;01mrasterio\u001b[39;00m\n\u001b[32m----> \u001b[39m\u001b[32m6\u001b[39m \u001b[38;5;28;01mimport\u001b[39;00m\u001b[38;5;250m \u001b[39m\u001b[34;01mresterio\u001b[39;00m\u001b[34;01m.\u001b[39;00m\u001b[34;01mplot\u001b[39;00m\n\u001b[32m      8\u001b[39m wms_url = \u001b[33m\"\u001b[39m\u001b[33mhttps://gis.toronto.ca/arcgis/services/basemap/cot_ortho/MapServer/WMSServer\u001b[39m\u001b[33m\"\u001b[39m\n\u001b[32m      9\u001b[39m wms = WebMapService(wms_url)\n",
      "\u001b[31mModuleNotFoundError\u001b[39m: No module named 'resterio'"
     ]
    }
   ],
   "source": [
    "from owslib.wms import WebMapService\n",
    "import requests\n",
    "from PIL import Image\n",
    "from io import BytesIO\n",
    "import rasterio\n",
    "import resterio.plot\n",
    "\n",
    "wms_url = \"https://gis.toronto.ca/arcgis/services/basemap/cot_ortho/MapServer/WMSServer\"\n",
    "wms = WebMapService(wms_url)\n",
    "\n",
    "bbox = (-79.393558267, 43.652245064, -79.390323394, 43.654593845)\n",
    "width, height = 1024, 1024\n",
    "layer = \"0\"\n",
    "\n",
    "response = requests.get(wms_url, params={\n",
    "    'service': 'WMS',\n",
    "    'version': '1.1.1',\n",
    "    'request': 'GetMap',\n",
    "    'layers': layer,\n",
    "    'styles': '',\n",
    "    'bbox': ','.join(map(str, bbox)),\n",
    "    'width': width,\n",
    "    'height': height,\n",
    "    'srs': 'EPSG:4326',\n",
    "    'format': 'image/tiff'\n",
    "})\n",
    "\n",
    "with rasterio.open(BytesIO(response.content)) as src: \n",
    "    rasterio.plot.show(src)\n",
    "\n",
    "print(src.crs)"
   ]
  }
 ],
 "metadata": {
  "kernelspec": {
   "display_name": ".venv",
   "language": "python",
   "name": "python3"
  },
  "language_info": {
   "codemirror_mode": {
    "name": "ipython",
    "version": 3
   },
   "file_extension": ".py",
   "mimetype": "text/x-python",
   "name": "python",
   "nbconvert_exporter": "python",
   "pygments_lexer": "ipython3",
   "version": "3.12.8"
  }
 },
 "nbformat": 4,
 "nbformat_minor": 5
}
